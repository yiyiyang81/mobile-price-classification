{
 "cells": [
  {
   "cell_type": "code",
   "execution_count": 1,
   "metadata": {},
   "outputs": [],
   "source": [
    "import pandas as pd\n",
    "import numpy as np\n",
    "from model.ActivationFunction import ActivationFunction\n",
    "from model.Loss import *\n",
    "from model.Layer import *\n",
    "from sklearn.model_selection import train_test_split\n",
    "from model.Classifier import Classifier\n",
    "from model.Optimizer import *\n",
    "import matplotlib.pyplot as plt"
   ]
  },
  {
   "cell_type": "markdown",
   "metadata": {},
   "source": [
    "# Load Dataset"
   ]
  },
  {
   "cell_type": "code",
   "execution_count": 2,
   "metadata": {},
   "outputs": [],
   "source": [
    "df = pd.read_csv('data/train.csv')\n",
    "X = df.drop('price_range', axis=1)\n",
    "y = df['price_range']\n",
    "\n",
    "# normalize the data\n",
    "X = (X - X.mean()) / X.std()\n",
    "\n",
    "X_train, X_test, y_train, y_test = train_test_split(X, y, test_size=0.2, random_state=42)"
   ]
  },
  {
   "cell_type": "markdown",
   "metadata": {},
   "source": [
    "# Neural Network from Scratch"
   ]
  },
  {
   "cell_type": "code",
   "execution_count": 30,
   "metadata": {},
   "outputs": [
    {
     "name": "stdout",
     "output_type": "stream",
     "text": [
      "Epoch: 0, Loss: 1.3863646523765032, Accuracy: 0.255625\n",
      "Epoch: 1000, Loss: 1.386003157807059, Accuracy: 0.255625\n",
      "Epoch: 2000, Loss: 1.385814939665837, Accuracy: 0.255625\n",
      "Epoch: 3000, Loss: 1.3841205908734742, Accuracy: 0.255625\n",
      "Epoch: 4000, Loss: 1.2435683778351823, Accuracy: 0.856875\n"
     ]
    }
   ],
   "source": [
    "# specify the layers and activation functions of the neural network\n",
    "layers = [Layer(20, 128), \n",
    "          Layer(128, 128), \n",
    "        #   Layer(256, 128), \n",
    "          Layer(128, 4)]\n",
    "activations = [ActivationFunction.ReLU(), \n",
    "               ActivationFunction.Sigmoid(), \n",
    "            #    ActivationFunction.Sigmoid(), \n",
    "               ActivationFunction.Softmax()]\n",
    "\n",
    "# initialize the loss function\n",
    "loss_func = Classifier.Softmax_CategoricalCrossentropy()\n",
    "\n",
    "epochs = 10000\n",
    "\n",
    "optimizer = Optimizer.SGD(decay=1e-3, momentum=0.9, learning_rate=0.01)\n",
    "\n",
    "early_stopping = False\n",
    "patience = 100\n",
    "count = 0\n",
    "\n",
    "\n",
    "lowest_loss = float('inf')\n",
    "\n",
    "for epoch in range(epochs):\n",
    "    layers[0].forward(X_train)\n",
    "    activations[0].forward(layers[0].output)\n",
    "    for i in range(1,len(layers)):\n",
    "        layers[i].forward(activations[i-1].output)\n",
    "        activations[i].forward(layers[i].output)\n",
    "\n",
    "    loss = loss_func.forward(activations[-1].output, y_train)\n",
    "    loss_func.losses.append(loss)\n",
    "\n",
    "    predictions = np.argmax(activations[-1].output, axis=1)\n",
    "    accuracy = np.mean(predictions == y_train)\n",
    "\n",
    "    if not epoch % 1000:\n",
    "        print(f'Epoch: {epoch}, Loss: {loss}, Accuracy: {accuracy}')\n",
    "\n",
    "    if loss < lowest_loss:\n",
    "        lowest_loss = loss\n",
    "        count = 0\n",
    "    else:\n",
    "        count += 1\n",
    "        if count == patience:\n",
    "            early_stopping = True\n",
    "            break\n",
    "\n",
    "    loss_func.backward(loss_func.output, y_train)\n",
    "    layers[-1].backward(loss_func.dinputs)\n",
    "    for i in range(len(layers) - 2, -1, -1):\n",
    "        activations[i].backward(layers[i + 1].dinputs)\n",
    "        layers[i].backward(activations[i].dinputs)\n",
    "\n",
    "    if early_stopping:\n",
    "        break\n",
    "\n",
    "    optimizer.pre_update_params()\n",
    "    for layer in layers:\n",
    "        optimizer.update_params(layer)\n",
    "    optimizer.post_update_params()\n"
   ]
  },
  {
   "cell_type": "code",
   "execution_count": 32,
   "metadata": {},
   "outputs": [
    {
     "data": {
      "image/png": "[encoded data removed]",
      "text/plain": [
       "<Figure size 640x480 with 1 Axes>"
      ]
     },
     "metadata": {},
     "output_type": "display_data"
    }
   ],
   "source": [
    "plt.plot(loss_func.losses)\n",
    "plt.title('Loss over Time')\n",
    "plt.show()"
   ]
  },
  {
   "cell_type": "markdown",
   "metadata": {},
   "source": [
    "# Blackbox testing"
   ]
  },
  {
   "cell_type": "code",
   "execution_count": 15,
   "metadata": {},
   "outputs": [
    {
     "name": "stdout",
     "output_type": "stream",
     "text": [
      "0.475\n"
     ]
    }
   ],
   "source": [
    "from sklearn.neural_network import MLPClassifier\n",
    "from sklearn.metrics import accuracy_score\n",
    "\n",
    "clf = MLPClassifier(hidden_layer_sizes=(128, 256, 128), max_iter=10000, \n",
    "                    activation='relu', solver='sgd', \n",
    "                    learning_rate_init=1, momentum=0.5, \n",
    "                    learning_rate='constant', alpha=1e-3,\n",
    "                    random_state=420\n",
    "                    )\n",
    "clf.fit(X_train, y_train)\n",
    "y_pred = clf.predict(X_test)\n",
    "print(accuracy_score(y_test, y_pred))"
   ]
  },
  {
   "cell_type": "code",
   "execution_count": 11,
   "metadata": {},
   "outputs": [
    {
     "data": {
      "text/plain": [
       "'softmax'"
      ]
     },
     "execution_count": 11,
     "metadata": {},
     "output_type": "execute_result"
    }
   ],
   "source": [
    "clf.out_activation_"
   ]
  },
  {
   "cell_type": "code",
   "execution_count": null,
   "metadata": {},
   "outputs": [],
   "source": []
  }
 ],
 "metadata": {
  "kernelspec": {
   "display_name": "Python 3",
   "language": "python",
   "name": "python3"
  },
  "language_info": {
   "codemirror_mode": {
    "name": "ipython",
    "version": 3
   },
   "file_extension": ".py",
   "mimetype": "text/x-python",
   "name": "python",
   "nbconvert_exporter": "python",
   "pygments_lexer": "ipython3",
   "version": "3.9.6"
  }
 },
 "nbformat": 4,
 "nbformat_minor": 2
}
